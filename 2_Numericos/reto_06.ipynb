{
 "cells": [
  {
   "cell_type": "markdown",
   "id": "b518f61d",
   "metadata": {},
   "source": [
    "\n",
    "# Reto Semanal VI - PyChallenge\n",
    "¿Cuál es el valor de la variable `notas`?\n",
    "\n",
    "```python\n",
    "n1, n2, n3, n4 = 6, 7, 8, 9\n",
    "notas = n1 + n2 + n3 + n4 / 4\n",
    "```\n",
    "\n",
    "👍 21.25    💖 23.25    😮 22\n"
   ]
  },
  {
   "cell_type": "markdown",
   "id": "2ea26085",
   "metadata": {},
   "source": [
    "\n",
    "## Análisis del código\n",
    "\n",
    "El código proporcionado es el siguiente:\n",
    "\n",
    "```python\n",
    "n1, n2, n3, n4 = 6, 7, 8, 9\n",
    "notas = n1 + n2 + n3 + n4 / 4\n",
    "```\n",
    "\n",
    "Para calcular el valor de `notas`, se debe seguir el orden de las operaciones (precedencia de operadores). En este caso, la división se realiza antes de la suma.\n",
    "\n    Primero, se realiza la división:\n    \n    ```\n    n4 / 4 = 9 / 4 = 2.25\n    ```\n\n    Luego, se suman los valores de `n1`, `n2`, y `n3` con el resultado de la división:\n    \n    ```\n    n1 + n2 + n3 + (n4 / 4) = 6 + 7 + 8 + 2.25 = 23.25\n    ```\n"
   ]
  },
  {
   "cell_type": "markdown",
   "id": "3c2dcab0",
   "metadata": {},
   "source": [
    "\n",
    "## Conclusión\n",
    "\n",
    "El valor de la variable `notas` es:\n",
    "\n",
    "💖 23.25\n"
   ]
  }
 ],
 "metadata": {
  "kernelspec": {
   "display_name": "Python 3",
   "language": "python",
   "name": "python3"
  },
  "language_info": {
   "name": "python",
   "version": "3.11.2"
  }
 },
 "nbformat": 4,
 "nbformat_minor": 5
}
