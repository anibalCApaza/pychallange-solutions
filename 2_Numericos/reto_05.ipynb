{
 "cells": [
  {
   "cell_type": "markdown",
   "id": "b518f61d",
   "metadata": {},
   "source": [
    "\n",
    "# Reto Semanal V - PyChallenge\n",
    "¿Qué salida obtendremos por consola si ejecutamos la siguiente línea de código?\n",
    "\n",
    "```python\n",
    "print(f\"{type(35.0)} {type('10')} {type(2024)}\")\n",
    "```\n",
    "\n",
    "👍 <class 'float'> <class 'str'> <class 'int'>    \n",
    "💖 <class 'str'> <class 'int'> <class 'int'>\n",
    "😮 <class 'int'> <class 'int'> <class 'int'>\n"
   ]
  },
  {
   "cell_type": "markdown",
   "id": "2ea26085",
   "metadata": {},
   "source": [
    "\n",
    "## Análisis del código\n",
    "\n",
    "El código proporcionado es el siguiente:\n",
    "\n",
    "```python\n",
    "print(f\"{type(35.0)} {type('10')} {type(2024)}\")\n",
    "```\n",
    "\n",
    "El `type()` en Python devuelve el tipo de datos de un objeto. Analizando cada elemento:\n",
    "\n",
    "- `type(35.0)` devuelve `<class 'float'>` porque `35.0` es un número decimal.\n",
    "- `type('10')` devuelve `<class 'str'>` porque `'10'` es una cadena de texto.\n",
    "- `type(2024)` devuelve `<class 'int'>` porque `2024` es un número entero.\n",
    "\n    La salida completa en consola será:\n",
    "\n    ```\n    <class 'float'> <class 'str'> <class 'int'>\n    ```\n"
   ]
  },
  {
   "cell_type": "markdown",
   "id": "3c2dcab0",
   "metadata": {},
   "source": [
    "\n",
    "## Conclusión\n",
    "\n",
    "La salida que obtendremos por consola es:\n",
    "\n",
    "👍 <class 'float'> <class 'str'> <class 'int'>\n"
   ]
  }
 ],
 "metadata": {
  "kernelspec": {
   "display_name": "Python 3",
   "language": "python",
   "name": "python3"
  },
  "language_info": {
   "name": "python",
   "version": "3.11.2"
  }
 },
 "nbformat": 4,
 "nbformat_minor": 5
}
