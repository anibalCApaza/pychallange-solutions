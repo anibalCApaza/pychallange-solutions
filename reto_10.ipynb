{
 "cells": [
  {
   "cell_type": "markdown",
   "id": "b518f61d",
   "metadata": {},
   "source": [
    "\n",
    "# Reto Semanal X\n",
    "¿Cuál es el resultado?\n",
    "\n",
    "```python\n",
    "cadena = \"En un lugar de la Mancha, de cuyo nombre no quiero acordarme\"\n",
    "print(cadena[3:30:4] + cadena[-5:-15:-2])\n",
    "```\n",
    "👍 'u  ag  acecodo'     💖 'u ag ec oodco'    😮 'uu laaedoaoe'\n"
   ]
  },
  {
   "cell_type": "markdown",
   "id": "4b77a950",
   "metadata": {},
   "source": []
  },
  {
   "cell_type": "markdown",
   "id": "2ea26085",
   "metadata": {},
   "source": [
    "\n",
    "## Análisis del código\n",
    "\n",
    "Para resolver el problema, evaluemos cada parte de la expresión:\n",
    "\n",
    "    - **Primera parte: `cadena[3:30:4]`**\n",
    "\n",
    "    La operación `cadena[3:30:4]` toma la subcadena de `cadena` desde el índice 3 hasta el índice 30, con un paso de 4:\n",
    "    \n",
    "    ```\n",
    "    cadena[3:30:4] = 'uu laae'\n",
    "    ```\n",
    "\n",
    "    - **Segunda parte: `cadena[-5:-15:-2]`**\n",
    "\n",
    "    La operación `cadena[-5:-15:-2]` toma la subcadena de `cadena` desde el índice -5 hacia atrás hasta el índice -15, con un paso de -2:\n",
    "    \n",
    "    ```\n",
    "    cadena[-5:-15:-2] = 'doaoe'\n",
    "    ```\n",
    "\n",
    "    **Concatenando ambos resultados:**\n",
    "\n",
    "    ```\n",
    "    'uu laae' + 'doaoe' = 'uu laaedoaoe'\n",
    "    ```\n"
   ]
  },
  {
   "cell_type": "markdown",
   "id": "3c2dcab0",
   "metadata": {},
   "source": [
    "\n",
    "## Conclusión\n",
    "\n",
    "El resultado de `print(cadena[3:30:4] + cadena[-5:-15:-2])` es: 😮'uu laaedoaoe'  \n",
    "\n"
   ]
  }
 ],
 "metadata": {
  "kernelspec": {
   "display_name": "Python 3",
   "language": "python",
   "name": "python3"
  },
  "language_info": {
   "name": "python",
   "version": "3.11.2"
  }
 },
 "nbformat": 4,
 "nbformat_minor": 5
}
