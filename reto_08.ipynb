{
 "cells": [
  {
   "cell_type": "markdown",
   "id": "b518f61d",
   "metadata": {},
   "source": [
    "\n",
    "# Reto Semanal VIII\n",
    "Sabiendo que `edad = 25` y evaluando la siguiente expresión, ¿qué valor booleano obtenemos?\n",
    "\n",
    "```python\n",
    "edad = 25\n",
    "(edad >= 25 and edad < 30) or not (edad < 25) and (not edad > 20)\n",
    "```\n",
    "\n",
    "👍 True     💖 False\n"
   ]
  },
  {
   "cell_type": "markdown",
   "id": "2ea26085",
   "metadata": {},
   "source": [
    "\n",
    "## Análisis del código\n",
    "\n",
    "El código proporcionado es el siguiente:\n",
    "\n",
    "```python\n",
    "edad = 25\n",
    "(edad >= 25 and edad < 30) or not (edad < 25) and (not edad > 20)\n",
    "```\n",
    "\n",
    "Evaluemos la expresión paso a paso:\n",
    "\n",
    "1. **Evaluar las comparaciones y los operadores `not`**:\n    \n    ```\n",
    "edad >= 25 = True\n",
    "edad < 30 = True\n",
    "edad < 25 = False\n",
    "edad > 20 = True\n",
    "not (edad < 25) = True\n",
    "not edad > 20 = False\n",
    "```\n\n2. **Evaluar las operaciones `and`**:\n    \n    ```\n",
    "(edad >= 25 and edad < 30) = True and True = True\n",
    "not (edad < 25) and (not edad > 20) = True and False = False\n",
    "```\n\n3. **Evaluar la operación `or`**:\n    \n    ```\n",
    "(True) or (False) = True\n",
    "```\n\n    Finalmente, la expresión completa se evalúa como `True`.\n"
   ]
  },
  {
   "cell_type": "markdown",
   "id": "3c2dcab0",
   "metadata": {},
   "source": [
    "\n",
    "## Conclusión\n",
    "\n",
    "La expresión booleana evaluada con `edad = 25` resulta en:\n",
    "\n",
    "👍 True\n"
   ]
  }
 ],
 "metadata": {
  "kernelspec": {
   "display_name": "Python 3",
   "language": "python",
   "name": "python3"
  },
  "language_info": {
   "name": "python",
   "version": "3.11.2"
  }
 },
 "nbformat": 4,
 "nbformat_minor": 5
}
