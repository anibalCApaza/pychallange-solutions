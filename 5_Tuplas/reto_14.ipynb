{
 "cells": [
  {
   "cell_type": "markdown",
   "id": "intro",
   "metadata": {},
   "source": [
    "# Reto Semanal XIV\n",
    "¿Cuál es el resultado del siguiente código?\n",
    "\n",
    "```python\n",
    "saludo = \"   Hola mundo   \"\n",
    "saludo_transformado = saludo.strip()\n",
    "print(saludo == saludo_transformado)\n",
    "```\n"
   ]
  },
  {
   "cell_type": "markdown",
   "id": "analysis",
   "metadata": {},
   "source": [
    "## Análisis del código\n",
    "\n",
    "1. **Uso del método `strip`:**\n",
    "   - El método `strip` elimina los espacios en blanco al inicio y al final de una cadena.\n",
    "   - En este caso, la variable `saludo` contiene \" &nbsp;  &nbsp; Hola mundo &nbsp;  &nbsp; \".\n",
    "   - Después de aplicar `strip`, el resultado es \"Hola mundo\".\n",
    "\n",
    "   ```python\n",
    "   saludo_transformado = saludo.strip()\n",
    "   ```\n",
    "\n",
    "2. **Comparación de cadenas:**\n",
    "   - Se compara la cadena original `saludo` con la cadena transformada `saludo_transformado`.\n",
    "   - Como la cadena original tiene espacios en blanco y la cadena transformada no, la comparación devuelve `False`.\n",
    "\n",
    "   ```python\n",
    "   saludo == saludo_transformado\n",
    "   ```\n",
    "   Resultado: `False`\n",
    "\n",
    "3. **Impresión del resultado:**\n",
    "   - La función `print` muestra el resultado de la comparación.\n",
    "\n",
    "   Resultado final: `False`\n"
   ]
  },
  {
   "cell_type": "markdown",
   "id": "conclusion",
   "metadata": {},
   "source": [
    "## Conclusión\n",
    "\n",
    "La respuesta correcta es: ❤️ `False`\n"
   ]
  }
 ],
 "metadata": {
  "kernelspec": {
   "display_name": "Python 3",
   "language": "python",
   "name": "python3"
  },
  "language_info": {
   "codemirror_mode": {
    "name": "ipython",
    "version": 3
   },
   "file_extension": ".py",
   "mimetype": "text/x-python",
   "name": "python",
   "nbconvert_exporter": "python",
   "pygments_lexer": "ipython3",
   "version": "3.11.2"
  }
 },
 "nbformat": 4,
 "nbformat_minor": 5
}
