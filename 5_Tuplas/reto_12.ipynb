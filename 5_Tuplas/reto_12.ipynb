{
 "cells": [
  {
   "cell_type": "markdown",
   "id": "b518f61d",
   "metadata": {},
   "source": [
    "\n",
    "# Reto Semanal XII\n",
    "¿Cuál es el resultado de la siguiente expresión?\n",
    "\n",
    "```python\n",
    "numeros = [1, 2, 3, 4, 5, 6, 7, 8, 9, 10]\n",
    "print([numeros[::-1][i] for i in range(len(numeros)) if numeros[::-1][i] % 2 == 0])\n",
    "```\n",
    "\n",
    "👍 [10, 8, 6, 4, 2]    💖 [2, 4, 6, 8, 10]    😮 [1, 3, 5, 7, 9]\n"
   ]
  },
  {
   "cell_type": "markdown",
   "id": "2ea26085",
   "metadata": {},
   "source": [
    "\n",
    "## Análisis del código\n",
    "\n",
    "Desglosamos la expresión paso a paso:\n",
    "\n",
    "- **Primera parte: `numeros[::-1]`**\n",
    "\n",
    "    Esto invierte la lista `numeros`:\n",
    "    \n",
    "    ```\n",
    "    numeros[::-1] = [10, 9, 8, 7, 6, 5, 4, 3, 2, 1]\n",
    "    ```\n",
    "- **Segunda parte: `for i in range(len(numeros))`**\n",
    "\n",
    "    Itera sobre cada índice en el rango de la longitud de `numeros`.\n",
    "- **Condición: `if numeros[::-1][i] % 2 == 0`**\n",
    "\n",
    "    Filtra los números en la lista invertida que son pares:\n",
    "    \n",
    "    ```\n",
    "    [10, 8, 6, 4, 2]\n",
    "    ```\n",
    "\n",
    "**Resultado final:**\n",
    "\n",
    "```[10, 8, 6, 4, 2]```\n"
   ]
  },
  {
   "cell_type": "markdown",
   "id": "3c2dcab0",
   "metadata": {},
   "source": [
    "\n",
    "## Conclusión\n",
    "\n",
    "El resultado de `[numeros[::-1][i] for i in range(len(numeros)) if numeros[::-1][i] % 2 == 0]` es: \n",
    "\n",
    "👍 [10, 8, 6, 4, 2] \n"
   ]
  }
 ],
 "metadata": {
  "kernelspec": {
   "display_name": "Python 3",
   "language": "python",
   "name": "python3"
  },
  "language_info": {
   "name": "python",
   "version": "3.11.2"
  }
 },
 "nbformat": 4,
 "nbformat_minor": 5
}
