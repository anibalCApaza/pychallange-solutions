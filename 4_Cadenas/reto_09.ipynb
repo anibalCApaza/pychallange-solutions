{
 "cells": [
  {
   "cell_type": "markdown",
   "id": "b518f61d",
   "metadata": {},
   "source": [
    "\n",
    "# Reto Semanal IX\n",
    "¿Cuál es el resultado de realizar:\n",
    "\n",
    "```python\n",
    "cadena = '1234567890'\n",
    "print(cadena[1::3])\n",
    "```\n",
    "\n",
    "👍 '258'     💖 '1369'    😮 '2468'\n"
   ]
  },
  {
   "cell_type": "markdown",
   "id": "2ea26085",
   "metadata": {},
   "source": [
    "\n",
    "## Análisis del código\n",
    "\n",
    "El código proporcionado es el siguiente:\n",
    "\n",
    "```python\n",
    "cadena = '1234567890'\n",
    "print(cadena[1::3])\n",
    "```\n",
    "\n",
    "Para entender la salida, es importante conocer cómo funcionan los índices y los pasos en las cadenas en Python:\n",
    "\n",
    "- `cadena[1::3]` significa que se toma la subcadena de `cadena` comenzando en el índice 1, y se toman caracteres con un paso de 3.\n",
    "\n    - El índice 1 es el carácter `'2'`.\n",
    "    - Tomamos cada tercer carácter a partir de `'2'`: `'2'`, `'5'`, y `'8'`.\n",
    "\n    Por lo tanto, el resultado de la operación es `'258'`.\n"
   ]
  },
  {
   "cell_type": "markdown",
   "id": "3c2dcab0",
   "metadata": {},
   "source": [
    "\n",
    "## Conclusión\n",
    "\n",
    "El resultado de realizar `cadena[1::3]` es:\n",
    "\n",
    "👍 '258'\n"
   ]
  }
 ],
 "metadata": {
  "kernelspec": {
   "display_name": "Python 3",
   "language": "python",
   "name": "python3"
  },
  "language_info": {
   "name": "python",
   "version": "3.11.2"
  }
 },
 "nbformat": 4,
 "nbformat_minor": 5
}
