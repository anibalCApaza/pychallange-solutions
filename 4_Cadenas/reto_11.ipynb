{
 "cells": [
  {
   "cell_type": "markdown",
   "id": "b518f61d",
   "metadata": {},
   "source": [
    "\n",
    "# Reto Semanal XI\n",
    "¿Cuál es el resultado de este slicing?\n",
    "\n",
    "```python\n",
    "cadena = \"hola mundo\"\n",
    "cadena[:4].upper() + \" \" + cadena[5:].lower()\n",
    "```\n",
    "\n",
    "\n",
    "\n",
    "👍 'HOLA Mundo'    💖 'hola Mundo'    😮 HOLA mundo\n"
   ]
  },
  {
   "cell_type": "markdown",
   "id": "2ea26085",
   "metadata": {},
   "source": [
    "\n",
    "## Análisis del código\n",
    "\n",
    "Evaluemos la expresión paso a paso:\n",
    "\n",
    "- **Primera parte: `cadena[:4].upper()`**\n",
    "\n",
    "    Esto toma la subcadena desde el inicio hasta el índice 4 (exclusivo), y la convierte a mayúsculas:\n",
    "    \n",
    "    ```\n",
    "    cadena[:4] = 'hola'\n",
    "    'hola'.upper() = 'HOLA'\n",
    "    ```\n",
    "- **Segunda parte: `cadena[5:].lower()`**\n",
    "\n",
    "    Esto toma la subcadena desde el índice 5 hasta el final, y la convierte a minúsculas:\n",
    "    \n",
    "    ```\n",
    "    cadena[5:] = 'mundo'\n",
    "    'mundo'.lower() = 'mundo'\n",
    "    ```\n",
    "\n",
    "**Concatenando ambos resultados con un espacio entre ellos:**\n",
    "\n",
    "```'HOLA' + ' ' + 'mundo' = 'HOLA mundo'```\n"
   ]
  },
  {
   "cell_type": "markdown",
   "id": "3c2dcab0",
   "metadata": {},
   "source": [
    "\n",
    "## Conclusión\n",
    "\n",
    "El resultado de `cadena[:4].upper() + \" \" + cadena[5:].lower()` es la **Opción 😮** 'HOLA mundo'\n"
   ]
  }
 ],
 "metadata": {
  "kernelspec": {
   "display_name": "Python 3",
   "language": "python",
   "name": "python3"
  },
  "language_info": {
   "name": "python",
   "version": "3.11.2"
  }
 },
 "nbformat": 4,
 "nbformat_minor": 5
}
