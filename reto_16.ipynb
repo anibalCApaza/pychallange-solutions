{
 "cells": [
  {
   "cell_type": "markdown",
   "id": "intro",
   "metadata": {},
   "source": [
    "# Reto Semanal XVI\n",
    "¿Cuál es el resultado del siguiente código?\n",
    "\n",
    "```python\n",
    "mi_tupla = (1, 2, 3, 4)\n",
    "mi_tupla += (5,)\n",
    "print(mi_tupla)\n",
    "```\n"
   ]
  },
  {
   "cell_type": "markdown",
   "id": "analysis",
   "metadata": {},
   "source": [
    "## Análisis del código\n",
    "\n",
    "1. **Tuplas en Python:**\n",
    "   - Las tuplas en Python son inmutables, lo que significa que no se pueden modificar una vez creadas.\n",
    "   - Sin embargo, es posible crear una nueva tupla combinando la tupla original con otra.\n",
    "   \n",
    "   ```python\n",
    "   mi_tupla += (5,)\n",
    "   ```\n",
    "   - Aquí se genera una nueva tupla que contiene los elementos `(1, 2, 3, 4, 5)` y se asigna a `mi_tupla`.\n",
    "\n",
    "2. **Uso de la coma al crear tuplas:**\n",
    "   - Al crear una tupla con un solo elemento, se debe usar una coma para que Python la interprete como una tupla.\n",
    "   \n",
    "   ```python\n",
    "   (5,) # Es una tupla\n",
    "   ```\n",
    "\n",
    "3. **Impresión del resultado:**\n",
    "   - La función `print` muestra el contenido de la nueva tupla:\n",
    "   \n",
    "   Resultado: `(1, 2, 3, 4, 5)`\n"
   ]
  },
  {
   "cell_type": "markdown",
   "id": "conclusion",
   "metadata": {},
   "source": [
    "## Conclusión\n",
    "\n",
    "La respuesta correcta es: 👍 `(1, 2, 3, 4, 5)`\n"
   ]
  }
 ],
 "metadata": {
  "kernelspec": {
   "display_name": "Python 3",
   "language": "python",
   "name": "python3"
  },
  "language_info": {
   "codemirror_mode": {
    "name": "ipython",
    "version": 3
   },
   "file_extension": ".py",
   "mimetype": "text/x-python",
   "name": "python",
   "nbconvert_exporter": "python",
   "pygments_lexer": "ipython3",
   "version": "3.11.2"
  }
 },
 "nbformat": 4,
 "nbformat_minor": 5
}
