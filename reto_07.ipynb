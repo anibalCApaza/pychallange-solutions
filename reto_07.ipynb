{
 "cells": [
  {
   "cell_type": "markdown",
   "id": "b518f61d",
   "metadata": {},
   "source": [
    "\n",
    "# Reto Semanal VII - PyChallenge\n",
    "¿Qué valor booleano imprime la siguiente línea de código?\n",
    "\n",
    "```python\n",
    "print((True and not False) or (False or True) and (not False or not True))\n",
    "```\n",
    "\n",
    "👍 False     💖 True\n"
   ]
  },
  {
   "cell_type": "markdown",
   "id": "2ea26085",
   "metadata": {},
   "source": [
    "\n",
    "## Análisis del código\n",
    "\n",
    "El código proporcionado es el siguiente:\n",
    "\n",
    "```python\n",
    "print((True and not False) or (False or True) and (not False or not True))\n",
    "```\n",
    "\n",
    "Para determinar el valor booleano, evaluamos cada expresión en el siguiente orden:\n",
    "\n",
    "1. **Evaluar `not`**:\n    \n    ```\n    not False = True\n    not True = False\n    ```\n\n2. **Evaluar las operaciones `and`**:\n    \n    ```\n    True and not False = True and True = True\n    False or True = True\n    not False or not True = True or False = True\n    ```\n\n3. **Evaluar la operación `or`**:\n    \n    ```\n    (True) or (True and True) = True or True = True\n    ```\n\n    Finalmente, la expresión completa se evalúa como `True`.\n"
   ]
  },
  {
   "cell_type": "markdown",
   "id": "3c2dcab0",
   "metadata": {},
   "source": [
    "\n",
    "## Conclusión\n",
    "\n",
    "La línea de código imprime:\n",
    "\n",
    "💖 True\n"
   ]
  }
 ],
 "metadata": {
  "kernelspec": {
   "display_name": "Python 3",
   "language": "python",
   "name": "python3"
  },
  "language_info": {
   "name": "python",
   "version": "3.11.2"
  }
 },
 "nbformat": 4,
 "nbformat_minor": 5
}

