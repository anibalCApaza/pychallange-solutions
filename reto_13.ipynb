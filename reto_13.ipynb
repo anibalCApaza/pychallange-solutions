{
    "cells": [
     {
      "cell_type": "markdown",
      "id": "intro",
      "metadata": {},
      "source": [
       "# Reto Semanal XIII\n",
       "¿Cuál es el resultado del siguiente código?\n",
       "\n",
       "```python\n",
       "operacion = \"1\" * 3\n",
       "print(operacion)\n",
       "```\n"
      ]
     },
     {
      "cell_type": "markdown",
      "id": "analysis",
      "metadata": {},
      "source": [
       "## Análisis del código\n",
       "\n",
       "1. **Operación con cadenas y operador `*`:**\n",
       "   - En Python, el operador `*` aplicado a una cadena repite su contenido un número de veces especificado.\n",
       "   - En este caso, la cadena \"1\" se multiplica por 3, lo que significa que \"1\" se repetirá tres veces.\n",
       "\n",
       "   ```python\n",
       "   operacion = \"1\" * 3\n",
       "   ```\n",
       "   Resultado: \"111\"\n",
       "\n",
       "2. **Asignación a la variable:**\n",
       "   - El resultado de la operación anterior, \"111\", se almacena en la variable `operacion`.\n",
       "\n",
       "3. **Impresión del resultado:**\n",
       "   - La función `print(operacion)` muestra el contenido de la variable `operacion`.\n",
       "\n",
       "   Resultado final: \"111\"\n"
      ]
     },
     {
      "cell_type": "markdown",
      "id": "conclusion",
      "metadata": {},
      "source": [
       "## Conclusión\n",
       "\n",
       "La respuesta correcta es: ❤️ \"111\"\n"
      ]
     }
    ],
    "metadata": {
     "kernelspec": {
      "display_name": "Python 3",
      "language": "python",
      "name": "python3"
     },
     "language_info": {
      "codemirror_mode": {
       "name": "ipython",
       "version": 3
      },
      "file_extension": ".py",
      "mimetype": "text/x-python",
      "name": "python",
      "nbconvert_exporter": "python",
      "pygments_lexer": "ipython3",
      "version": "3.11.2"
     }
    },
    "nbformat": 4,
    "nbformat_minor": 5
   }
   