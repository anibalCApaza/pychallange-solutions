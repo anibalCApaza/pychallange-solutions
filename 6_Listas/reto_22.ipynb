{
    "cells": [
        {
            "cell_type": "markdown",
            "id": "1d70c3e1",
            "metadata": {},
            "source": [
                "# Reto Semanal XXII\n",
                "¿Cuál es el resultado del siguiente código?\n",
                "\n",
                "```python\n",
                "costos_unitarios = [15.5, 55.96, 288.77, 12.8]\n",
                "costos_unitarios[2:2] = [float(\"200.01\")]\n",
                "print(costos_unitarios)\n",
                "```\n"
            ]
        },
        {
            "cell_type": "markdown",
            "id": "0d3d2f8d",
            "metadata": {},
            "source": [
                "## Análisis del código\n",
                "\n",
                "El código proporcionado es el siguiente:\n",
                "\n",
                "```python\n",
                "costos_unitarios = [15.5, 55.96, 288.77, 12.8]\n",
                "costos_unitarios[2:2] = [float(\"200.01\")]\n",
                "print(costos_unitarios)\n",
                "```\n",
                "\n",
                "1. **Desglose de operaciones:**\n",
                "   - La lista `costos_unitarios` inicialmente contiene los elementos `[15.5, 55.96, 288.77, 12.8]`.\n",
                "   - La asignación `costos_unitarios[2:2] = [float(\"200.01\")]` inserta el valor `200.01` (convertido a tipo `float`) en la posición `2` de la lista, sin eliminar ningún elemento.\n",
                "   - Esto desplaza los elementos desde la posición `2` hacia adelante.\n",
                "\n",
                "2. **Resultado esperado:** La lista final será `[15.5, 55.96, 200.01, 288.77, 12.8]`."
            ]
        },
        {
            "cell_type": "markdown",
            "id": "c46d7091",
            "metadata": {},
            "source": [
                "## Código ejecutado\n",
                "\n",
                "Aquí está el código ejecutado con el resultado:\n",
                "\n",
                "```python\n",
                "costos_unitarios = [15.5, 55.96, 288.77, 12.8]\n",
                "costos_unitarios[2:2] = [float(\"200.01\")]\n",
                "print(costos_unitarios)\n",
                "```\n",
                "\n",
                "**Salida:**\n",
                "\n",
                "```\n",
                "[15.5, 55.96, 200.01, 288.77, 12.8]\n",
                "```\n",
                "\n"
            ]
        },
        {
            "cell_type": "markdown",
            "id": "623ec285",
            "metadata": {},
            "source": [
                "## Conclusión\n",
                "\n",
                "La opción correcta es 😂 **[15.5, 55.96, 200.01, 288.77, 12.8]**.\n",
                "\n",
                "La sintaxis `lista[2:2] = [nuevo_valor]` inserta el valor `nuevo_valor` en la posición indicada sin reemplazar ningún elemento, desplazando los demás hacia adelante."
            ]
        }
    ],
    "metadata": {
        "kernelspec": {
            "display_name": "Python 3",
            "language": "python",
            "name": "python3"
        },
        "language_info": {
            "name": "python",
            "version": "3.11.2"
        }
    },
    "nbformat": 4,
    "nbformat_minor": 5
}
