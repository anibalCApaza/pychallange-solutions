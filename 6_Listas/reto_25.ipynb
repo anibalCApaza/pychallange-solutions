{
 "cells": [
  {
   "cell_type": "markdown",
   "id": "b518f61d",
   "metadata": {},
   "source": [
    "\n",
    "# Reto Semanal XXV \n",
    "¿Cuál es el resultado del siguiente código?\n",
    "\n",
    "```python\n",
    "numeros = [1, 2, 3, 4, 5, 6, 12, 15, 18, 20, 24]\n",
    "resultado = [x**2 for x in numeros if x % 3 == 0 and x % 5 == 0]\n",
    "print(resultado)\n",
    "```\n"
   ]
  },
  {
   "cell_type": "markdown",
   "id": "2ea26085",
   "metadata": {},
   "source": [
    "\n",
    "## Análisis del código original\n",
    "\n",
    "El código proporcionado es el siguiente:\n",
    "\n",
    "```python\n",
    "numeros = [1, 2, 3, 4, 5, 6, 12, 15, 18, 20, 24]\n",
    "resultado = [x**2 for x in numeros if x % 3 == 0 and x % 5 == 0]\n",
    "print(resultado)\n",
    "```\n",
    "\n",
    "El código utiliza una **lista por comprensión** para crear una nueva lista `resultado` que contiene el cuadrado de los números que son divisibles por 3 y 5 (es decir, aquellos que son múltiplos de 15).\n",
    "Los múltiplos de 15 dentro de la lista `numeros` son: 15.\n",
    "\n",
    "Luego, se calcula el cuadrado de 15, que es `15**2 = 225`.\n",
    "\n",
    "Por lo tanto, el resultado de la lista `resultado` es: `[225]`."
   ]
  },
  {
   "cell_type": "markdown",
   "id": "3c2dcab0",
   "metadata": {},
   "source": [
    "\n",
    "## Respuesta\n",
    "\n",
    "El resultado del código es **[225]**, ya que el único número en la lista `numeros` que es divisible tanto por 3 como por 5 es 15, y su cuadrado es 225.\n",
    "\n",
    "Por lo tanto, la respuesta correcta es:\n",
    "\n",
    "😂 [225]"
   ]
  },
  {
   "cell_type": "markdown",
   "id": "0032a44e",
   "metadata": {},
   "source": [
    "\n",
    "## Conclusión\n",
    "\n",
    "El código filtra los números que son divisibles por 3 y 5, luego calcula sus cuadrados. En este caso, solo el número 15 cumple con la condición, y su cuadrado es 225."
   ]
  }
 ],
 "metadata": {
  "kernelspec": {
   "display_name": "Python 3",
   "language": "python",
   "name": "python3"
  },
  "language_info": {
   "name": "python",
   "version": "3.11.2"
  },
  "nbformat": 4,
  "nbformat_minor": 5
 },
 "nbformat": 4,
 "nbformat_minor": 2
}
