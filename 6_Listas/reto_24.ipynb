{
 "cells": [
  {
   "cell_type": "markdown",
   "id": "b518f61d",
   "metadata": {},
   "source": [
    "\n",
    "# Reto Semanal XXIV \n",
    "¿Cuál es el resultado del siguiente código?\n",
    "\n",
    "```python\n",
    "edades = [2, 18, 1, 40, 5, 27, 18, 2]\n",
    "print(edades.count(edades.index(int('18'))))\n",
    "```\n"
   ]
  },
  {
   "cell_type": "markdown",
   "id": "2ea26085",
   "metadata": {},
   "source": [
    "\n",
    "## Análisis del código original\n",
    "\n",
    "El código proporcionado es el siguiente:\n",
    "\n",
    "```python\n",
    "edades = [2, 18, 1, 40, 5, 27, 18, 2]\n",
    "print(edades.count(edades.index(int('18'))))\n",
    "```\n",
    "\n",
    "1. **`int('18')`**: Convierte el string `'18'` en el número entero 18.\n",
    "2. **`edades.index(18)`**: Busca el primer índice de 18 en la lista `edades`. En este caso, el primer 18 se encuentra en el índice 1.\n",
    "3. **`edades.count(1)`**: Cuenta cuántas veces aparece el número 1 en la lista `edades`.\n",
    "\n",
    "La lista `edades` es:\n",
    "```python\n",
    "[2, 18, 1, 40, 5, 27, 18, 2]\n",
    "```\n",
    "El número 1 aparece solo una vez, por lo tanto, el resultado de `edades.count(1)` es **1**."
   ]
  },
  {
   "cell_type": "markdown",
   "id": "3c2dcab0",
   "metadata": {},
   "source": [
    "\n",
    "## Respuesta\n",
    "\n",
    "El resultado del código es **1**, ya que el índice de `18` en la lista es 1, y luego se cuenta cuántas veces aparece el número 1 en la lista, lo que ocurre una vez.\n",
    "\n",
    "Por lo tanto, la respuesta correcta es:\n",
    "\n",
    "😂 1"
   ]
  },
  {
   "cell_type": "markdown",
   "id": "0032a44e",
   "metadata": {},
   "source": [
    "\n",
    "## Conclusión\n",
    "\n",
    "El código ejecutado devuelve `1` como resultado de la operación de contar cuántas veces aparece el número 1 en la lista `edades` después de encontrar el índice del primer `18`."
   ]
  }
 ],
 "metadata": {
  "kernelspec": {
   "display_name": "Python 3",
   "language": "python",
   "name": "python3"
  },
  "language_info": {
   "name": "python",
   "version": "3.11.2"
  },
  "nbformat": 4,
  "nbformat_minor": 5
 },
 "nbformat": 4,
 "nbformat_minor": 2
}
