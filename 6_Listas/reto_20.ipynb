{
    "cells": [
        {
            "cell_type": "markdown",
            "id": "7c55b3f4",
            "metadata": {},
            "source": [
                "# Reto Semanal XX\n",
                "¿Cuál es el resultado del siguiente código?\n",
                "\n",
                "```python\n",
                "numeros_primos = [2, 3, 5]\n",
                "numeros_primos.append([7, 11])\n",
                "print(numeros_primos)\n",
                "```\n"
            ]
        },
        {
            "cell_type": "markdown",
            "id": "00f52c58",
            "metadata": {},
            "source": [
                "## Análisis del código\n",
                "\n",
                "El código proporcionado es el siguiente:\n",
                "\n",
                "```python\n",
                "numeros_primos = [2, 3, 5]\n",
                "numeros_primos.append([7, 11])\n",
                "print(numeros_primos)\n",
                "```\n",
                "\n",
                "1. **Desglose de operaciones:**\n",
                "   - Se crea una lista llamada `numeros_primos` con los elementos `[2, 3, 5]`.\n",
                "   - La función `append()` agrega un solo elemento al final de la lista. En este caso, el elemento agregado es otra lista: `[7, 11]`.\n",
                "   - La lista original se modifica y el resultado es `[2, 3, 5, [7, 11]]`.\n",
                "\n",
                "2. **Resultado esperado:** La salida del `print` será `[2, 3, 5, [7, 11]]`."
            ]
        },
        {
            "cell_type": "markdown",
            "id": "cb42592c",
            "metadata": {},
            "source": [
                "## Código ejecutado\n",
                "\n",
                "Aquí está el código ejecutado con el resultado:\n",
                "\n",
                "```python\n",
                "numeros_primos = [2, 3, 5]\n",
                "numeros_primos.append([7, 11])\n",
                "print(numeros_primos)\n",
                "```\n",
                "\n",
                "**Salida:**\n",
                "\n",
                "```\n",
                "[2, 3, 5, [7, 11]]\n",
                "```\n",
                "\n"
            ]
        },
        {
            "cell_type": "markdown",
            "id": "152dbe82",
            "metadata": {},
            "source": [
                "## Conclusión\n",
                "\n",
                "La opción correcta es ❤️ **[2, 3, 5, [7, 11]]**.\n",
                "\n",
                "La función `append()` agrega el argumento completo como un único elemento al final de la lista, sin descomponerlo. Por lo tanto, `[7, 11]` se convierte en un sublista dentro de `numeros_primos`."
            ]
        }
    ],
    "metadata": {
        "kernelspec": {
            "display_name": "Python 3",
            "language": "python",
            "name": "python3"
        },
        "language_info": {
            "name": "python",
            "version": "3.11.2"
        }
    },
    "nbformat": 4,
    "nbformat_minor": 5
}
