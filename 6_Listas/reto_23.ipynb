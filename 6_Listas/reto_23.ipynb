{
    "cells": [
        {
            "cell_type": "markdown",
            "id": "1d70c3e1",
            "metadata": {},
            "source": [
                "# Reto Semanal XXIII\n",
                "¿Cuál es el resultado del siguiente código?\n",
                "\n",
                "```python\n",
                "precios = [133.5, 87.74, 1.70]\n",
                "copia_precios = precios.copy()\n",
                "copia_precios.pop()\n",
                "print(precios, copia_precios)\n",
                "```"
            ]
        },
        {
            "cell_type": "markdown",
            "id": "0d3d2f8d",
            "metadata": {},
            "source": [
                "## Análisis del código\n",
                "\n",
                "El código proporcionado es el siguiente:\n",
                "\n",
                "```python\n",
                "precios = [133.5, 87.74, 1.70]\n",
                "copia_precios = precios.copy()\n",
                "copia_precios.pop()\n",
                "print(precios, copia_precios)\n",
                "```\n",
                "\n",
                "1. **Desglose de operaciones:**\n",
                "   - La lista `precios` contiene los elementos `[133.5, 87.74, 1.70]`.\n",
                "   - La instrucción `copia_precios = precios.copy()` crea una copia superficial de la lista `precios`.\n",
                "   - El método `copia_precios.pop()` elimina y retorna el último elemento de `copia_precios`, dejando `[133.5, 87.74]` en `copia_precios`.\n",
                "   - La lista original `precios` permanece sin cambios.\n",
                "\n",
                "2. **Resultado esperado:** El `print` mostrará `[133.5, 87.74, 1.7] [133.5, 87.74]`."
            ]
        },
        {
            "cell_type": "markdown",
            "id": "c46d7091",
            "metadata": {},
            "source": [
                "## Código ejecutado\n",
                "\n",
                "Aquí está el código ejecutado con el resultado:\n",
                "\n",
                "```python\n",
                "precios = [133.5, 87.74, 1.70]\n",
                "copia_precios = precios.copy()\n",
                "copia_precios.pop()\n",
                "print(precios, copia_precios)\n",
                "```\n",
                "\n",
                "**Salida:**\n",
                "\n",
                "```\n",
                "[133.5, 87.74, 1.7] [133.5, 87.74]\n",
                "```\n",
                "\n"
            ]
        },
        {
            "cell_type": "markdown",
            "id": "623ec285",
            "metadata": {},
            "source": [
                "## Conclusión\n",
                "\n",
                "La opción correcta es 😎 **[133.5, 87.74, 1.7] [133.5, 87.74]**.\n",
                "\n",
                "El método `copy()` crea una copia independiente de la lista, y las operaciones realizadas en `copia_precios` no afectan a la lista original `precios`."
            ]
        }
    ],
    "metadata": {
        "kernelspec": {
            "display_name": "Python 3",
            "language": "python",
            "name": "python3"
        },
        "language_info": {
            "name": "python",
            "version": "3.11.2"
        }
    },
    "nbformat": 4,
    "nbformat_minor": 5
}
