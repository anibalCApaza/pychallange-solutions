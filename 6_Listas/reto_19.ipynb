{
    "cells": [
        {
            "cell_type": "markdown",
            "id": "f291ce41",
            "metadata": {},
            "source": [
                "# Reto Semanal XIX\n",
                "¿Cuál es el resultado del siguiente código?\n",
                "\n",
                "```python\n",
                "patos = list('Donald Lucas')\n",
                "print(patos)\n",
                "```"
            ]
        },
        {
            "cell_type": "markdown",
            "id": "ba652d8c",
            "metadata": {},
            "source": [
                "## Análisis del código\n",
                "\n",
                "El código proporcionado es el siguiente:\n",
                "\n",
                "```python\n",
                "patos = list('Donald Lucas')\n",
                "print(patos)\n",
                "```\n",
                "\n",
                "1. **Desglose de operaciones:**\n",
                "   - La función `list()` convierte una cadena en una lista donde cada carácter (incluyendo espacios) se convierte en un elemento separado.\n",
                "   - Por lo tanto, `list('Donald Lucas')` produce la lista `['D', 'o', 'n', 'a', 'l', 'd', ' ', 'L', 'u', 'c', 'a', 's']`.\n",
                "\n",
                "2. **Resultado esperado:** La salida del `print` será `['D', 'o', 'n', 'a', 'l', 'd', ' ', 'L', 'u', 'c', 'a', 's']`."
            ]
        },
        {
            "cell_type": "markdown",
            "id": "8628db46",
            "metadata": {},
            "source": [
                "## Código ejecutado\n",
                "\n",
                "Aquí está el código ejecutado con el resultado:\n",
                "\n",
                "```python\n",
                "patos = list('Donald Lucas')\n",
                "print(patos)\n",
                "```\n",
                "\n",
                "**Salida:**\n",
                "\n",
                "```\n",
                "['D', 'o', 'n', 'a', 'l', 'd', ' ', 'L', 'u', 'c', 'a', 's']\n",
                "```\n",
                "\n"
            ]
        },
        {
            "cell_type": "markdown",
            "id": "4af25b22",
            "metadata": {},
            "source": [
                "## Conclusión\n",
                "\n",
                "La opción correcta es 😂 **['D', 'o', 'n', 'a', 'l', 'd', ' ', 'L', 'u', 'c', 'a', 's']**.\n",
                "\n",
                "El código convierte la cadena completa, incluyendo los espacios, en una lista de caracteres individuales.\n"
            ]
        }
    ],
    "metadata": {
        "kernelspec": {
            "display_name": "Python 3",
            "language": "python",
            "name": "python3"
        },
        "language_info": {
            "name": "python",
            "version": "3.11.2"
        }
    },
    "nbformat": 4,
    "nbformat_minor": 5
}
