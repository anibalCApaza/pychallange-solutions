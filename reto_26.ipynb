{
 "cells": [
  {
   "cell_type": "markdown",
   "id": "b518f61d",
   "metadata": {},
   "source": [
    "\n",
    "# Reto Semanal XXVI \n",
    "¿Cuál es el resultado del siguiente código?\n",
    "\n",
    "```python\n",
    "combo = {'🍔', '🍟', '🥤'}\n",
    "postres = {'🧁', '🍨', '🥤'}\n",
    "menu = combo + postres\n",
    "print(menu)\n",
    "```\n"
   ]
  },
  {
   "cell_type": "markdown",
   "id": "2ea26085",
   "metadata": {},
   "source": [
    "\n",
    "## Análisis del código original\n",
    "\n",
    "El código proporcionado es el siguiente:\n",
    "\n",
    "```python\n",
    "combo = {'🍔', '🍟', '🥤'}\n",
    "postres = {'🧁', '🍨', '🥤'}\n",
    "menu = combo + postres\n",
    "print(menu)\n",
    "```\n",
    "\n",
    "En este caso, `combo` y `postres` son conjuntos (`set`) en Python. Los conjuntos no soportan el operador `+`, que está destinado a la concatenación de listas o la suma de otros tipos de datos. En su lugar, se debe usar el operador `|` para realizar una **unión** de conjuntos.\n",
    "\n",
    "El operador `+` en este caso produce un error porque no se puede aplicar directamente a conjuntos.\n"
   ]
  },
  {
   "cell_type": "markdown",
   "id": "3c2dcab0",
   "metadata": {},
   "source": [
    "\n",
    "## Respuesta\n",
    "\n",
    "El resultado del código es un **TypeError**, porque el operador `+` no está definido para conjuntos. En lugar de usar `+`, se debería usar el operador `|` para hacer una unión de conjuntos.\n",
    "\n",
    "Por lo tanto, la respuesta correcta es:\n",
    "\n",
    "😂 TypeError"
   ]
  },
  {
   "cell_type": "markdown",
   "id": "0032a44e",
   "metadata": {},
   "source": [
    "\n",
    "## Conclusión\n",
    "\n",
    "Para unir dos conjuntos en Python, se debe utilizar el operador `|`, no el operador `+`. El uso del operador `+` con conjuntos genera un **TypeError**."
   ]
  }
 ],
 "metadata": {
  "kernelspec": {
   "display_name": "Python 3",
   "language": "python",
   "name": "python3"
  },
  "language_info": {
   "name": "python",
   "version": "3.11.2"
  },
  "nbformat": 4,
  "nbformat_minor": 5
 },
 "nbformat": 4,
 "nbformat_minor": 2
}
