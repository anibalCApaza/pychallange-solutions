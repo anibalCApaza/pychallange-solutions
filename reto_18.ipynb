{
    "cells": [
        {
            "cell_type": "markdown",
            "id": "b8b11e3a",
            "metadata": {},
            "source": [
                "# Reto Semanal XVIII\n",
                "¿Cuál es el resultado del siguiente código?\n",
                "\n",
                "```python\n",
                "bases = (1, 2, 3)\n",
                "multiplos = bases * 3\n",
                "resultado = multiplos[:5] + (bases[0],)\n",
                "\n",
                "print(resultado)\n",
                "```\n"
            ]
        },
        {
            "cell_type": "markdown",
            "id": "9c786c91",
            "metadata": {},
            "source": [
                "## Análisis del código\n",
                "\n",
                "El código proporcionado es el siguiente:\n",
                "\n",
                "```python\n",
                "bases = (1, 2, 3)\n",
                "multiplos = bases * 3\n",
                "resultado = multiplos[:5] + (bases[0],)\n",
                "\n",
                "print(resultado)\n",
                "```\n",
                "\n",
                "1. **Desglose de operaciones:**\n",
                "   - `bases * 3` duplica los elementos de `bases` tres veces, resultando en `(1, 2, 3, 1, 2, 3, 1, 2, 3)`.\n",
                "   - `multiplos[:5]` toma los primeros 5 elementos de la tupla, obteniendo `(1, 2, 3, 1, 2)`.\n",
                "   - `+ (bases[0],)` concatena el primer elemento de `bases`, que es `1`, al final, dando como resultado `(1, 2, 3, 1, 2, 1)`.\n",
                "\n",
                "2. **Resultado esperado:** La salida del `print` será `(1, 2, 3, 1, 2, 1)`."
            ]
        },
        {
            "cell_type": "markdown",
            "id": "56d73d39",
            "metadata": {},
            "source": [
                "## Código ejecutado\n",
                "\n",
                "Aquí está el código ejecutado con el resultado:\n",
                "\n",
                "```python\n",
                "bases = (1, 2, 3)\n",
                "multiplos = bases * 3\n",
                "resultado = multiplos[:5] + (bases[0],)\n",
                "\n",
                "print(resultado)\n",
                "```\n",
                "\n",
                "**Salida:**\n",
                "\n",
                "```\n",
                "(1, 2, 3, 1, 2, 1)\n",
                "```\n",
                "\n"
            ]
        },
        {
            "cell_type": "markdown",
            "id": "1ae06144",
            "metadata": {},
            "source": [
                "## Conclusión\n",
                "\n",
                "La opción correcta es ❤️ **(1, 2, 3, 1, 2, 1)**.\n",
                "\n",
                "El código no genera errores y realiza las operaciones correctamente, siguiendo las reglas de multiplicación, rebanado y concatenación de tuplas en Python.\n"
            ]
        }
    ],
    "metadata": {
        "kernelspec": {
            "display_name": "Python 3",
            "language": "python",
            "name": "python3"
        },
        "language_info": {
            "name": "python",
            "version": "3.11.2"
        }
    },
    "nbformat": 4,
    "nbformat_minor": 5
}
