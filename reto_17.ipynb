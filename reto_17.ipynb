{
    "cells": [
        {
            "cell_type": "markdown",
            "id": "c25e8e7c",
            "metadata": {},
            "source": [
                "# Reto Semanal XVII\n",
                "¿Cuál es el resultado del siguiente código?\n",
                "\n",
                "```python\n",
                "tupla_numeros = (42, 96)\n",
                "tupla_booleanos = (True, False)\n",
                "print((tupla_numeros * 2 + tupla_booleanos))\n",
                "```\n"
            ]
        },
        {
            "cell_type": "markdown",
            "id": "2f3b2e1a",
            "metadata": {},
            "source": [
                "## Análisis del código\n",
                "\n",
                "El código proporcionado es el siguiente:\n",
                "\n",
                "```python\n",
                "tupla_numeros = (42, 96)\n",
                "tupla_booleanos = (True, False)\n",
                "print((tupla_numeros * 2 + tupla_booleanos))\n",
                "```\n",
                "\n",
                "1. **Desglose de operaciones:**\n",
                "   - `(tupla_numeros * 2)` duplica los elementos de `tupla_numeros`, dando como resultado `(42, 96, 42, 96)`.\n",
                "   - `+ tupla_booleanos` concatena la tupla resultante con `tupla_booleanos`, dando `(42, 96, 42, 96, True, False)`.\n",
                "\n",
                "2. **Resultado esperado:** La salida del `print` será `(42, 96, 42, 96, True, False)`."
            ]
        },
        {
            "cell_type": "markdown",
            "id": "abf4598f",
            "metadata": {},
            "source": [
                "## Código ejecutado\n",
                "\n",
                "Aquí está el código ejecutado con el resultado:\n",
                "\n",
                "```python\n",
                "tupla_numeros = (42, 96)\n",
                "tupla_booleanos = (True, False)\n",
                "print((tupla_numeros * 2 + tupla_booleanos))\n",
                "```\n",
                "\n",
                "**Salida:**\n",
                "\n",
                "```\n",
                "(42, 96, 42, 96, True, False)\n",
                "```\n"
            ]
        },
        {
            "cell_type": "markdown",
            "id": "df8c8be5",
            "metadata": {},
            "source": [
                "## Conclusión\n",
                "\n",
                "La opción correcta es ❤️ **(42, 96, 42, 96, True, False)**.\n",
                "\n",
                "El código no genera errores y realiza las operaciones correctamente, siguiendo las reglas de concatenación y multiplicación de tuplas en Python.\n"
            ]
        }
    ],
    "metadata": {
        "kernelspec": {
            "display_name": "Python 3",
            "language": "python",
            "name": "python3"
        },
        "language_info": {
            "name": "python",
            "version": "3.11.2"
        }
    },
    "nbformat": 4,
    "nbformat_minor": 5
}
