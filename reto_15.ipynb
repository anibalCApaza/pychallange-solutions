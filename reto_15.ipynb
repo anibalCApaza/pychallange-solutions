{
 "cells": [
  {
   "cell_type": "markdown",
   "id": "intro",
   "metadata": {},
   "source": [
    "# Reto Semanal XV\n",
    "¿Cuál es el resultado del siguiente código?\n",
    "\n",
    "```python\n",
    "reyes_magos = (\"Melchor\", \"Gaspar\", \"Baltasar\")\n",
    "rey_mago_a, *resto_reyes_magos = reyes_magos\n",
    "print(resto_reyes_magos)\n",
    "```\n"
   ]
  },
  {
   "cell_type": "markdown",
   "id": "analysis",
   "metadata": {},
   "source": [
    "## Análisis del código\n",
    "\n",
    "1. **Desempaquetado de tuplas:**\n",
    "   - La sintaxis `rey_mago_a, *resto_reyes_magos = reyes_magos` utiliza el operador `*` para desempaquetar elementos.\n",
    "   - El primer elemento de la tupla `reyes_magos` se asigna a `rey_mago_a`.\n",
    "   - El resto de los elementos de la tupla se asignan como una lista a `resto_reyes_magos`.\n",
    "   \n",
    "   ```python\n",
    "   rey_mago_a = \"Melchor\"\n",
    "   resto_reyes_magos = [\"Gaspar\", \"Baltasar\"]\n",
    "   ```\n",
    "\n",
    "2. **Impresión del resultado:**\n",
    "   - La función `print(resto_reyes_magos)` imprimirá la lista que contiene los elementos restantes de la tupla.\n",
    "   \n",
    "   Resultado: `[\"Gaspar\", \"Baltasar\"]`\n",
    "\n",
    "3. **Formato del resultado:**\n",
    "   - El formato del resultado impreso es una **lista**, no una tupla ni otro tipo de colección.\n",
    "\n",
    "   ```python\n",
    "   ['Gaspar', 'Baltasar']\n",
    "   ```\n"
   ]
  },
  {
   "cell_type": "markdown",
   "id": "conclusion",
   "metadata": {},
   "source": [
    "## Conclusión\n",
    "\n",
    "La respuesta correcta es: 😂 `[\"Gaspar\", \"Baltasar\"]`\n"
   ]
  }
 ],
 "metadata": {
  "kernelspec": {
   "display_name": "Python 3",
   "language": "python",
   "name": "python3"
  },
  "language_info": {
   "codemirror_mode": {
    "name": "ipython",
    "version": 3
   },
   "file_extension": ".py",
   "mimetype": "text/x-python",
   "name": "python",
   "nbconvert_exporter": "python",
   "pygments_lexer": "ipython3",
   "version": "3.11.2"
  }
 },
 "nbformat": 4,
 "nbformat_minor": 5
}
