{
    "cells": [
        {
            "cell_type": "markdown",
            "id": "49e830ff",
            "metadata": {},
            "source": [
                "# Reto Semanal XXI\n",
                "¿Cuál es el resultado del siguiente código?\n",
                "\n",
                "```python\n",
                "bibliotecas = [\"numpy\", \"pandas\", \"matplotlib\"]\n",
                "paquetes = bibliotecas.copy()\n",
                "print(bibliotecas is paquetes)\n",
                "```\n"
            ]
        },
        {
            "cell_type": "markdown",
            "id": "92ed183d",
            "metadata": {},
            "source": [
                "## Análisis del código\n",
                "\n",
                "El código proporcionado es el siguiente:\n",
                "\n",
                "```python\n",
                "bibliotecas = [\"numpy\", \"pandas\", \"matplotlib\"]\n",
                "paquetes = bibliotecas.copy()\n",
                "print(bibliotecas is paquetes)\n",
                "```\n",
                "\n",
                "1. **Desglose de operaciones:**\n",
                "   - `bibliotecas` es una lista con los elementos `[\"numpy\", \"pandas\", \"matplotlib\"]`.\n",
                "   - `bibliotecas.copy()` crea una copia superficial de la lista original, lo que significa que `paquetes` contiene los mismos elementos que `bibliotecas`, pero es un objeto distinto.\n",
                "   - El operador `is` verifica si las dos variables apuntan al mismo objeto en memoria. En este caso, `bibliotecas` y `paquetes` son dos objetos diferentes, aunque sus contenidos sean iguales.\n",
                "\n",
                "2. **Resultado esperado:** La salida del `print` será `False` porque `bibliotecas` y `paquetes` no son el mismo objeto."
            ]
        },
        {
            "cell_type": "markdown",
            "id": "e3f379dd",
            "metadata": {},
            "source": [
                "## Código ejecutado\n",
                "\n",
                "Aquí está el código ejecutado con el resultado:\n",
                "\n",
                "```python\n",
                "bibliotecas = [\"numpy\", \"pandas\", \"matplotlib\"]\n",
                "paquetes = bibliotecas.copy()\n",
                "print(bibliotecas is paquetes)\n",
                "```\n",
                "\n",
                "**Salida:**\n",
                "\n",
                "```\n",
                "False\n",
                "```\n",
                "\n"
            ]
        },
        {
            "cell_type": "markdown",
            "id": "6c3191b6",
            "metadata": {},
            "source": [
                "## Conclusión\n",
                "\n",
                "La opción correcta es ❤️ **False**.\n",
                "\n",
                "El método `copy()` crea un nuevo objeto en memoria, por lo que aunque los contenidos de las listas sean idénticos, `bibliotecas` y `paquetes` no son el mismo objeto. El operador `is` verifica la identidad del objeto, no su contenido."
            ]
        }
    ],
    "metadata": {
        "kernelspec": {
            "display_name": "Python 3",
            "language": "python",
            "name": "python3"
        },
        "language_info": {
            "name": "python",
            "version": "3.11.2"
        }
    },
    "nbformat": 4,
    "nbformat_minor": 5
}
