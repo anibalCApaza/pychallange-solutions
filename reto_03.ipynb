{
 "cells": [
  {
   "cell_type": "markdown",
   "metadata": {},
   "source": [
    "# Reto Semanal III\n",
    "¿Qué figura imprime el siguiente fragmento de código?\n",
    "\n",
    "```python\n",
    "print(\" /\\\\_/\\\\ \")\n",
    "print(\"( o.o )\")\n",
    "print(\" > ^ < \")\n",
    "```\n",
    "\n",
    "👍 Un gato  💖 Un pez   😮 Un conejo"
   ]
  },
  {
   "cell_type": "markdown",
   "metadata": {},
   "source": [
    "## Análisis del código\n",
    "\n",
    "El código proporcionado es el siguiente:\n",
    "\n",
    "```python\n",
    "print(\" /\\\\_/\\\\ \")\n",
    "print(\"( o.o )\")\n",
    "print(\" > ^ < \")\n",
    "```\n",
    "\n",
    "Al ejecutar este código, se imprime la siguiente figura:"
   ]
  },
  {
   "cell_type": "code",
   "execution_count": null,
   "metadata": {},
   "outputs": [
    {
     "ename": "",
     "evalue": "",
     "output_type": "error",
     "traceback": [
      "\u001b[1;31mLa ejecución de celdas con 'Python 3.11.2' requiere el paquete ipykernel.\n",
      "\u001b[1;31mEjecute el siguiente comando para instalar 'ipykernel' en el entorno de Python. comando \n",
      "\u001b[1;31m: '/bin/python3 -m pip install ipykernel -U --user --force-reinstall'"
     ]
    }
   ],
   "source": [
    "print(\" /\\\\_/\\\\ \")\n",
    "print(\"( o.o )\")\n",
    "print(\" > ^ < \")"
   ]
  },
  {
   "cell_type": "markdown",
   "metadata": {},
   "source": [
    "## Conclusión\n",
    "\n",
    "La figura impresa por el código es la cara de **un gato**."
   ]
  }
 ],
 "metadata": {
  "kernelspec": {
   "display_name": "Python 3",
   "language": "python",
   "name": "python3"
  },
  "language_info": {
   "codemirror_mode": {
    "name": "ipython",
    "version": 3
   },
   "file_extension": ".py",
   "mimetype": "text/x-python",
   "name": "python",
   "nbconvert_exporter": "python",
   "pygments_lexer": "ipython3",
   "version": "3.11.2"
  }
 },
 "nbformat": 4,
 "nbformat_minor": 4
}
