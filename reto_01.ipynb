{
 "cells": [
  {
   "cell_type": "markdown",
   "id": "b518f61d",
   "metadata": {},
   "source": [
    "\n",
    "# Reto Semanal I \n",
    "¿El siguiente fragmento de código cumple con la indentación correcta según PEP 8?\n",
    "\n",
    "```python\n",
    "def verificar_par(n):\n",
    "  if n % 2 == 0:\n",
    "      print(\"¡Es un número par!\")\n",
    "  else:\n",
    "    print(\"¡Es un número impar!\")\n",
    "```\n",
    "\n",
    "👍 SI    💖 NO\n"
   ]
  },
  {
   "cell_type": "markdown",
   "id": "2ea26085",
   "metadata": {},
   "source": [
    "\n",
    "## Análisis del código original\n",
    "\n",
    "El código proporcionado es el siguiente:\n",
    "\n",
    "```python\n",
    "def verificar_par(n):\n",
    "  if n % 2 == 0:\n",
    "      print(\"¡Es un número par!\")\n",
    "  else:\n",
    "    print(\"¡Es un número impar!\")\n",
    "```\n",
    "\n",
    "Para que el código cumpla con PEP 8, la indentación debe ser consistente y normalmente se recomienda utilizar 4 espacios por nivel de indentación. Revisando el código, podemos notar que la indentación no es consistente.\n"
   ]
  },
  {
   "cell_type": "markdown",
   "id": "3c2dcab0",
   "metadata": {},
   "source": [
    "\n",
    "## Corrección del código\n",
    "\n",
    "La versión corregida del código sería:\n",
    "\n",
    "```python\n",
    "def verificar_par(n):\n",
    "    if n % 2 == 0:\n",
    "        print(\"¡Es un número par!\")\n",
    "    else:\n",
    "        print(\"¡Es un número impar!\")\n",
    "```\n",
    "\n",
    "Ahora, el código cumple con las recomendaciones de PEP 8 para la indentación.\n"
   ]
  },
  {
   "cell_type": "markdown",
   "id": "0032a44e",
   "metadata": {},
   "source": [
    "\n",
    "## Conclusión\n",
    "\n",
    "El código original **no** cumple con la indentación correcta según PEP 8.\n"
   ]
  }
 ],
 "metadata": {
  "kernelspec": {
   "display_name": "Python 3",
   "language": "python",
   "name": "python3"
  },
  "language_info": {
   "name": "python",
   "version": "3.11.2"
  }
 },
 "nbformat": 4,
 "nbformat_minor": 5
}
