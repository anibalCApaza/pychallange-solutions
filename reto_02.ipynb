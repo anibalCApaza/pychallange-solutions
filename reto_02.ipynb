{
 "cells": [
  {
   "cell_type": "markdown",
   "id": "b518f61d",
   "metadata": {},
   "source": [
    "\n",
    "# Reto Semanal II - PyChallenge\n",
    "Según el flujo de ejecución lineal, ¿cuál será la línea de código que se ejecutará primero?\n",
    "\n",
    "```python\n",
    "print(\"¡Python es lo mejor!\")\n",
    "print(\"Yo me ejecutaré primero!!\")\n",
    "print(\"Iniciando el programa....\")\n",
    "```\n",
    "\n",
    "👍 ¡Python es lo mejor!    \n",
    "💖 Yo me ejecutaré primero!!\n",
    "😮 Iniciando el programa....\n"
   ]
  },
  {
   "cell_type": "markdown",
   "id": "2ea26085",
   "metadata": {},
   "source": [
    "\n",
    "## Análisis del código\n",
    "\n",
    "El código proporcionado es el siguiente:\n",
    "\n",
    "```python\n",
    "print(\"¡Python es lo mejor!\")\n",
    "print(\"Yo me ejecutaré primero!!\")\n",
    "print(\"Iniciando el programa....\")\n",
    "```\n",
    "\n",
    "En el flujo de ejecución lineal, las líneas de código se ejecutan en el orden en que aparecen. Por lo tanto, el primer `print` que se ejecutará es:\n",
    "\n",
    "```python\n",
    "print(\"¡Python es lo mejor!\")\n",
    "```\n"
   ]
  },
  {
   "cell_type": "markdown",
   "id": "3c2dcab0",
   "metadata": {},
   "source": [
    "\n",
    "## Conclusión\n",
    "\n",
    "La línea de código que se ejecutará primero es:\n",
    "\n",
    "👍 ¡Python es lo mejor!\n"
   ]
  }
 ],
 "metadata": {
  "kernelspec": {
   "display_name": "Python 3",
   "language": "python",
   "name": "python3"
  },
  "language_info": {
   "name": "python",
   "version": "3.11.2"
  }
 },
 "nbformat": 4,
 "nbformat_minor": 5
}

