{
 "cells": [
  {
   "cell_type": "markdown",
   "metadata": {},
   "source": [
    "# Reto Semanal II - PyChallenge\n",
    "\n",
    "Según el flujo de ejecución lineal, ¿Cuál será la línea de código que se ejecutará primero?\n",
    "\n",
    "```python\n",
    "print(\"¡Python es lo mejor!\")\n",
    "print(\"Yo me ejecutaré primero!!\")\n",
    "print(\"Iniciando el programa....\")\n",
    "```\n",
    "\n",
    "👍 ¡Python es lo mejor!    \n",
    "💖 Yo me ejecutaré primero!!    \n",
    "😮 Iniciando el programa...."
   ]
  },
  {
   "cell_type": "markdown",
   "metadata": {},
   "source": [
    "## Análisis del código\n",
    "\n",
    "El código proporcionado es el siguiente:\n",
    "\n",
    "```python\n",
    "print(\"¡Python es lo mejor!\")\n",
    "print(\"Yo me ejecutaré primero!!\")\n",
    "print(\"Iniciando el programa....\")\n",
    "```\n",
    "\n",
    "En Python, el flujo de ejecución es lineal, lo que significa que las líneas de código se ejecutan de arriba hacia abajo."
   ]
  },
  {
   "cell_type": "markdown",
   "metadata": {},
   "source": [
    "\n",
    "# Reto Semanal II\n",
    "¿Según eñ flujo de ejecución lineal, cual línea se ejecutará primero?\n",
    "```python\n",
    "print(\"¡Python es lo mejor!\")\n",
    "print(\"Yo me ejecutaré primero!!\")\n",
    "print(\"Iniciando el programa....\")\n",
    "```\n",
    "## Identificación de la primera línea de código que se ejecutará\n",
    "\n",
    "El flujo de ejecución lineal nos dice que el código siempre se ejecutará de arriba a abajo y de izquierda a derecha, por tanto\n",
    "la primera línea de código que se ejecutará es:\n",
    "\n",
    "```python\n",
    "print(\"¡Python es lo mejor!\")\n",
    "```\n"
   ]
  }
 ],
 "metadata": {
  "kernelspec": {
   "display_name": "Python 3",
   "language": "python",
   "name": "python3"
  },
  "language_info": {
   "codemirror_mode": {
    "name": "ipython",
    "version": 3
   },
   "file_extension": ".py",
   "mimetype": "text/x-python",
   "name": "python",
   "nbconvert_exporter": "python",
   "pygments_lexer": "ipython3",
   "version": "3.8.5"
  }
 },
 "nbformat": 4,
 "nbformat_minor": 4
}
