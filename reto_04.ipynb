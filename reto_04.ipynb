{
 "cells": [
  {
   "cell_type": "markdown",
   "id": "b518f61d",
   "metadata": {},
   "source": [
    "\n",
    "# Reto Semanal IV - PyChallenge\n",
    "¿Qué imprime la siguiente línea de código?\n",
    "\n",
    "```python\n",
    "print(\"   /\\   \\n  /  \\  \\n /    \\ \\n/______\\\")\n",
    "```\n",
    "\n",
    "👍 Un triángulo     💖 Un cuadrado      😮 Una flecha\n"
   ]
  },
  {
   "cell_type": "markdown",
   "id": "2ea26085",
   "metadata": {},
   "source": [
    "\n",
    "## Análisis del código\n",
    "\n",
    "El código proporcionado es el siguiente:\n",
    "\n",
    "```python\n",
    "print(\"   /\\   \\n  /  \\  \\n /    \\ \\n/______\\\")\n",
    "```\n",
    "\n",
    "Este fragmento de código imprime una figura en forma de triángulo, como se puede observar en la salida:\n",
    "\n",
    "```\n",
    "   /\\   \n",
    "  /  \\  \n",
    " /    \\ \n",
    "/______\\\n",
    "```\n",
    "\n",
    "Esto corresponde a un triángulo en arte ASCII."
   ]
  },
  {
   "cell_type": "markdown",
   "id": "3c2dcab0",
   "metadata": {},
   "source": [
    "\n",
    "## Conclusión\n",
    "\n",
    "La línea de código imprime:\n",
    "\n",
    "👍 Un triángulo\n"
   ]
  }
 ],
 "metadata": {
  "kernelspec": {
   "display_name": "Python 3",
   "language": "python",
   "name": "python3"
  },
  "language_info": {
   "name": "python",
   "version": "3.11.2"
  }
 },
 "nbformat": 4,
 "nbformat_minor": 5
}
