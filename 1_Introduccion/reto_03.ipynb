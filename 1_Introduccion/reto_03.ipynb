{
 "cells": [
  {
   "cell_type": "markdown",
   "id": "b518f61d",
   "metadata": {},
   "source": [
    "\n",
    "# Reto Semanal III - PyChallenge\n",
    "¿Qué figura imprime el siguiente fragmento de código?\n",
    "\n",
    "```python\n",
    "print(\" /\\_/\\ \")\n",
    "print(\"( o.o )\")\n",
    "print(\" > ^ < \")\n",
    "```\n",
    "\n",
    "👍 Un gato  💖 Un pez   😮 Un conejo\n"
   ]
  },
  {
   "cell_type": "markdown",
   "id": "2ea26085",
   "metadata": {},
   "source": [
    "\n",
    "## Análisis del código\n",
    "\n",
    "El código proporcionado es el siguiente:\n",
    "\n",
    "```python\n",
    "print(\" /\\_/\\ \")\n",
    "print(\"( o.o )\")\n",
    "print(\" > ^ < \")\n",
    "```\n",
    "\n",
    "El fragmento de código imprime una figura en forma de un gato, como se puede observar en la salida:\n",
    "\n",
    "```\n",
    " /\\_/\\ \n",
    "( o.o )\n",
    " > ^ < \n",
    "```\n",
    "\n",
    "Esto corresponde a una representación común de un gato en arte ASCII."
   ]
  },
  {
   "cell_type": "markdown",
   "id": "3c2dcab0",
   "metadata": {},
   "source": [
    "\n",
    "## Conclusión\n",
    "\n",
    "El fragmento de código imprime:\n",
    "\n",
    "👍 Un gato\n"
   ]
  }
 ],
 "metadata": {
  "kernelspec": {
   "display_name": "Python 3",
   "language": "python",
   "name": "python3"
  },
  "language_info": {
   "name": "python",
   "version": "3.11.2"
  }
 },
 "nbformat": 4,
 "nbformat_minor": 5
}
